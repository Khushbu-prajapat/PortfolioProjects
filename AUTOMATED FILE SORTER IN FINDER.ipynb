{
 "cells": [
  {
   "cell_type": "code",
   "execution_count": 2,
   "id": "7a76d6d5",
   "metadata": {},
   "outputs": [],
   "source": [
    "import os, shutil"
   ]
  },
  {
   "cell_type": "code",
   "execution_count": 3,
   "id": "abc50613",
   "metadata": {},
   "outputs": [],
   "source": [
    "path = r'/Users/khushbuprajapat/Downloads/python_analytics/' "
   ]
  },
  {
   "cell_type": "code",
   "execution_count": 4,
   "id": "67dcc736",
   "metadata": {},
   "outputs": [
    {
     "data": {
      "text/plain": [
       "['.DS_Store', 'python', 'pdf files', 'NOTES', 'Python Notebook', 'CSV files']"
      ]
     },
     "execution_count": 4,
     "metadata": {},
     "output_type": "execute_result"
    }
   ],
   "source": [
    "file_names = os.listdir(path)\n",
    "file_names"
   ]
  },
  {
   "cell_type": "code",
   "execution_count": 5,
   "id": "c3e8cc94",
   "metadata": {},
   "outputs": [],
   "source": [
    "folder_names = ['Python Notebook', 'CSV files', 'pdf files']\n",
    "\n",
    "for loop in range(0,3):\n",
    "    if not os.path.exists(path + folder_names[loop]):\n",
    "        print(path + folder_names[loop])\n",
    "        os.makedirs(path + folder_names[loop])\n",
    "        "
   ]
  },
  {
   "cell_type": "code",
   "execution_count": 6,
   "id": "92674add",
   "metadata": {},
   "outputs": [],
   "source": [
    "for file in file_names:\n",
    "    if '.ipynb' in file and not os.path.exists(path + 'Python Notebook/' + file):\n",
    "        shutil.move(path + file, path + 'Python Notebook/' + file )\n",
    "    elif '.csv' in file and not os.path.exists(path + 'CSV files/' + file):\n",
    "        shutil.move(path + file, path + 'CSV files/' + file )\n",
    "    elif '.pdf' in file and not os.path.exists(path + 'pdf files/' + file):\n",
    "        shutil.move(path + file, path + 'pdf files/' + file )\n",
    "    "
   ]
  },
  {
   "cell_type": "code",
   "execution_count": 7,
   "id": "84fdf84a",
   "metadata": {},
   "outputs": [],
   "source": [
    "import time"
   ]
  },
  {
   "cell_type": "code",
   "execution_count": 13,
   "id": "46c32774",
   "metadata": {},
   "outputs": [],
   "source": [
    "def check_files():\n",
    "    for file in file_names:\n",
    "        if '.ipynb' in file and not os.path.exists(path + 'Python Notebook/' + file):\n",
    "            shutil.move(path + file, path + 'Python Notebook/' + file)\n",
    "        elif '.csv' in file and not os.path.exists(path + 'CSV files/' + file):\n",
    "            shutil.move(path + file, path + 'CSV files/' + file)\n",
    "        elif '.pdf' in file and not os.path.exists(path + 'pdf files/' + file):\n",
    "            shutil.move(path + file, path + 'pdf files/' + file)\n"
   ]
  },
  {
   "cell_type": "code",
   "execution_count": null,
   "id": "e32d170a",
   "metadata": {},
   "outputs": [],
   "source": [
    "while True:\n",
    "    check_files()\n",
    "    print(\"Check completed! Waiting for the next cycle...\")\n",
    "    time.sleep(86400)  "
   ]
  },
  {
   "cell_type": "code",
   "execution_count": null,
   "id": "38feab1b",
   "metadata": {},
   "outputs": [],
   "source": []
  }
 ],
 "metadata": {
  "kernelspec": {
   "display_name": "Python 3 (ipykernel)",
   "language": "python",
   "name": "python3"
  },
  "language_info": {
   "codemirror_mode": {
    "name": "ipython",
    "version": 3
   },
   "file_extension": ".py",
   "mimetype": "text/x-python",
   "name": "python",
   "nbconvert_exporter": "python",
   "pygments_lexer": "ipython3",
   "version": "3.11.3"
  }
 },
 "nbformat": 4,
 "nbformat_minor": 5
}
